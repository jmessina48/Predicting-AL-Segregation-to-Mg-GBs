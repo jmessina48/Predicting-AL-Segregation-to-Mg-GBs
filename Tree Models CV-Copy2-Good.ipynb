{
 "cells": [
  {
   "cell_type": "code",
   "execution_count": 1,
   "id": "9af18932",
   "metadata": {},
   "outputs": [
    {
     "data": {
      "text/html": [
       "        <script type=\"text/javascript\">\n",
       "        window.PlotlyConfig = {MathJaxConfig: 'local'};\n",
       "        if (window.MathJax) {MathJax.Hub.Config({SVG: {font: \"STIX-Web\"}});}\n",
       "        if (typeof require !== 'undefined') {\n",
       "        require.undef(\"plotly\");\n",
       "        requirejs.config({\n",
       "            paths: {\n",
       "                'plotly': ['https://cdn.plot.ly/plotly-latest.min']\n",
       "            }\n",
       "        });\n",
       "        require(['plotly'], function(Plotly) {\n",
       "            window._Plotly = Plotly;\n",
       "        });\n",
       "        }\n",
       "        </script>\n",
       "        "
      ]
     },
     "metadata": {},
     "output_type": "display_data"
    }
   ],
   "source": [
    "import torch\n",
    "import scipy.io as io\n",
    "import plotly.offline as py\n",
    "import plotly.graph_objs as go\n",
    "import json\n",
    "import numpy as np\n",
    "from sklearn.svm import SVC\n",
    "from sklearn import metrics\n",
    "\n",
    "import pickle \n",
    "\n",
    "import xgboost as xgb\n",
    "from sklearn.ensemble import RandomForestRegressor\n",
    "from sklearn.ensemble import ExtraTreesRegressor\n",
    "from sklearn.ensemble import BaggingRegressor\n",
    "\n",
    "from sklearn.metrics import mean_squared_error\n",
    "import math as m\n",
    "\n",
    "py.init_notebook_mode(connected=True)\n"
   ]
  },
  {
   "cell_type": "code",
   "execution_count": 2,
   "id": "c30824b7",
   "metadata": {},
   "outputs": [],
   "source": [
    "# Loading Matlab Struct array with all of the data:\n",
    "\n",
    "mat = io.loadmat('data_Mg_GBperatom_seg_2Al_dump.mat')\n",
    "\n",
    "length_A = mat['A'].shape[1]"
   ]
  },
  {
   "cell_type": "code",
   "execution_count": 3,
   "id": "65fb3d0b",
   "metadata": {},
   "outputs": [],
   "source": [
    "# Organizing data:\n",
    "\n",
    "for i in range(30):\n",
    "    segE = mat['A']['Eseg'][0,i]\n",
    "    #check whether this is a valid data?\n",
    "    n1 = segE[:,0] != 0 \n",
    "    segE = np.squeeze(segE[n1,:])\n",
    "    atom_ID = segE[:,0].astype(int) - 1\n",
    "\n",
    "    descriptor = mat['A']['peratom'][0,i][0,0]\n",
    "    descriptor_temp = np.concatenate([descriptor['pos'],descriptor['pe'],descriptor['cna'],descriptor['centro_fnn'],\n",
    "                                descriptor['centro_snn'],descriptor['coord'],descriptor['f'],descriptor['stress'],\n",
    "                                descriptor['voronoi']], axis = 1)\n",
    "    if i == 0:\n",
    "        descriptor_all = descriptor_temp[atom_ID]\n",
    "        segE_all = segE\n",
    "    else:\n",
    "        descriptor_temp = descriptor_temp[atom_ID]\n",
    "        descriptor_all = np.concatenate([descriptor_all, descriptor_temp], axis = 0)\n",
    "        segE_all = np.concatenate([segE_all, segE])\n",
    "\n",
    "descriptor_all[:,2] = abs(descriptor_all[:,2]-min(descriptor_all[:,2])-20)\n",
    "sigma_H = np.sum(descriptor_all[:,11:14], axis = 1)/3\n",
    "f_mag = np.linalg.norm(descriptor_all[:,8:11], axis = 1, ord = 2)\n",
    "\n",
    "feature = np.concatenate([descriptor_all, sigma_H[:,np.newaxis], f_mag[:,np.newaxis]], axis = 1)"
   ]
  },
  {
   "cell_type": "markdown",
   "id": "ad77e7f1",
   "metadata": {},
   "source": [
    "# XGBOOST"
   ]
  },
  {
   "cell_type": "code",
   "execution_count": 4,
   "id": "22cd09ab",
   "metadata": {},
   "outputs": [
    {
     "name": "stdout",
     "output_type": "stream",
     "text": [
      "15\n",
      "(2846, 241)\n",
      "(2846, 241)\n",
      "(2846, 241)\n",
      "(2846, 241)\n",
      "(2847, 241) \n",
      "\n",
      "(2846,)\n",
      "(2846,)\n",
      "(2846,)\n",
      "(2846,)\n",
      "(2847,) \n",
      "\n"
     ]
    }
   ],
   "source": [
    "#Extreme Gradient Boosted Decision Trees (XGBOOST)  **MODEL B**\n",
    "\n",
    "y_true = segE_all[:,1]\n",
    "pos = feature[:,:3]\n",
    "zpos = pos[:,2][:,np.newaxis]\n",
    "ypos= pos[:,1][:,np.newaxis]\n",
    "xpos= pos[:,0][:,np.newaxis]\n",
    "\n",
    "feature1 = feature[:,3:]\n",
    "# Separation of each feature:\n",
    "f0= feature1[:,0][:,np.newaxis]\n",
    "f1= feature1[:,1][:,np.newaxis]\n",
    "f2= feature1[:,2][:,np.newaxis]\n",
    "f3= feature1[:,3][:,np.newaxis]\n",
    "f4= feature1[:,4][:,np.newaxis]\n",
    "f5= feature1[:,5][:,np.newaxis]\n",
    "f6= feature1[:,6][:,np.newaxis]\n",
    "f7= feature1[:,7][:,np.newaxis]\n",
    "f8= feature1[:,8][:,np.newaxis]\n",
    "f9= feature1[:,9][:,np.newaxis]\n",
    "f10= feature1[:,10][:,np.newaxis]\n",
    "f11= feature1[:,11][:,np.newaxis]\n",
    "f12= feature1[:,12][:,np.newaxis]\n",
    "f13= feature1[:,13][:,np.newaxis]\n",
    "f14= feature1[:,14][:,np.newaxis]\n",
    "f15= feature1[:,15][:,np.newaxis]\n",
    "f16= feature1[:,16][:,np.newaxis]\n",
    "f17= feature1[:,17][:,np.newaxis]\n",
    "\n",
    "# From Feature Elimination:\n",
    "feature1 = np.concatenate([f0,f1,f2,f3,f4,f8,f9,f10,f11,f13,f14,f15,f16,xpos,ypos], axis=1)\n",
    "\n",
    "\n",
    "\n",
    "n= feature1.shape[1]\n",
    "print(n)\n",
    "\n",
    "feature1 = feature1/np.max(feature1)\n",
    "\n",
    "#Adding Interaction Terms:\n",
    "feature2 = np.zeros([feature1.shape[0], n*n])  \n",
    "for i in range(n):\n",
    "    feature2[:,i*n:i*n+n] = feature1[:,i][:,np.newaxis]*feature1[:,:]\n",
    "\n",
    "feature_space = np.concatenate([feature1, feature2], axis = 1)\n",
    "feature_space = np.concatenate([np.ones((feature1.shape[0],1)), feature_space], axis = 1)\n",
    "\n",
    "#feature_space = feature1\n",
    "\n",
    "# print(feature_space.shape)   #\n",
    "np.random.seed(10)\n",
    "idx0 = np.random.permutation(np.arange(len(feature_space)))\n",
    "feature_space = feature_space[idx0]\n",
    "pos = pos[idx0]\n",
    "y_true = y_true[idx0]\n",
    "\n",
    "\n",
    "\n",
    "\n",
    "\n",
    "X_fold1 = feature_space[0:int(len(feature_space)*.2)]\n",
    "X_fold2 = feature_space[int(len(feature_space)*.2):int(len(feature_space)*.4)]\n",
    "X_fold3 = feature_space[int(len(feature_space)*.4):int(len(feature_space)*.6)]\n",
    "X_fold4 = feature_space[int(len(feature_space)*.6):int(len(feature_space)*.8)]\n",
    "X_fold5 = feature_space[int(len(feature_space)*.8):]\n",
    "\n",
    "X_std1 = np.std(X_fold1, axis = 0)\n",
    "X_std2 = np.std(X_fold2, axis = 0)\n",
    "X_std3 = np.std(X_fold3, axis = 0)\n",
    "X_std4 = np.std(X_fold4, axis = 0)\n",
    "X_std5 = np.std(X_fold5, axis = 0)\n",
    "\n",
    "X_mean1 = np.mean(X_fold1, axis = 0)\n",
    "X_mean2 = np.mean(X_fold2, axis = 0)\n",
    "X_mean3 = np.mean(X_fold3, axis = 0)\n",
    "X_mean4 = np.mean(X_fold4, axis = 0)\n",
    "X_mean5 = np.mean(X_fold5, axis = 0)\n",
    "\n",
    "# X_fold1 = (X_fold1 - X_mean1)/X_std1\n",
    "# X_fold2 = (X_fold2 - X_mean2)/X_std2\n",
    "# X_fold3 = (X_fold3 - X_mean3)/X_std3\n",
    "# X_fold4 = (X_fold4 - X_mean4)/X_std4\n",
    "# X_fold5 = (X_fold5 - X_mean5)/X_std5\n",
    "\n",
    "\n",
    "y_fold1 = y_true[0:int(len(feature_space)*.2)]\n",
    "y_fold2 = y_true[int(len(feature_space)*.2):int(len(feature_space)*.4)]\n",
    "y_fold3 = y_true[int(len(feature_space)*.4):int(len(feature_space)*.6)]\n",
    "y_fold4 = y_true[int(len(feature_space)*.6):int(len(feature_space)*.8)]\n",
    "y_fold5 = y_true[int(len(feature_space)*.8):]\n",
    "\n",
    "\n",
    "\n",
    "print(X_fold1.shape)\n",
    "print(X_fold2.shape)\n",
    "print(X_fold3.shape)\n",
    "print(X_fold4.shape)\n",
    "print(X_fold5.shape,'\\n')\n",
    "\n",
    "print(y_fold1.shape)\n",
    "print(y_fold2.shape)\n",
    "print(y_fold3.shape)\n",
    "print(y_fold4.shape)\n",
    "print(y_fold5.shape, '\\n')\n",
    "\n",
    "\n",
    "\n",
    "X_train1 = np.concatenate([X_fold1,X_fold2,X_fold3,X_fold4], axis=0)\n",
    "X_test1 = X_fold5\n",
    "y_train1 = np.concatenate([y_fold1,y_fold2,y_fold3,y_fold4], axis=0)\n",
    "y_test1 = y_fold5\n",
    "\n",
    "X_train2 = np.concatenate([X_fold1,X_fold2,X_fold3,X_fold5], axis=0)\n",
    "X_test2= X_fold4\n",
    "y_train2 = np.concatenate([y_fold1,y_fold2,y_fold3,y_fold5], axis=0)\n",
    "y_test2 = y_fold4\n",
    "\n",
    "X_train3 = np.concatenate([X_fold1,X_fold2,X_fold4,X_fold5], axis=0)\n",
    "X_test3 = X_fold3\n",
    "y_train3 = np.concatenate([y_fold1,y_fold2,y_fold4,y_fold5], axis=0)\n",
    "y_test3 = y_fold3\n",
    "\n",
    "X_train4 = np.concatenate([X_fold1,X_fold3,X_fold4,X_fold5], axis=0)\n",
    "X_test4 = X_fold2\n",
    "y_train4 = np.concatenate([y_fold1,y_fold3,y_fold4,y_fold5], axis=0)\n",
    "y_test4 = y_fold2\n",
    "\n",
    "X_train5 = np.concatenate([X_fold2,X_fold3,X_fold4,X_fold5], axis=0)\n",
    "X_test5 = X_fold1\n",
    "y_train5 = np.concatenate([y_fold2,y_fold3,y_fold4,y_fold5], axis=0)\n",
    "y_test5 = y_fold1\n",
    "\n"
   ]
  },
  {
   "cell_type": "code",
   "execution_count": 10,
   "id": "8714a12d",
   "metadata": {},
   "outputs": [],
   "source": [
    "R_squared_train_xgb_cv_list = []\n",
    "R_squared_val_xgb_cv_list = []\n"
   ]
  },
  {
   "cell_type": "code",
   "execution_count": 11,
   "id": "49fb8347",
   "metadata": {},
   "outputs": [],
   "source": [
    "rmse_xgb_list = []"
   ]
  },
  {
   "cell_type": "code",
   "execution_count": 12,
   "id": "59218098",
   "metadata": {},
   "outputs": [],
   "source": [
    "X_trainCV = X_train1 \n",
    "Y_trainCV = y_train1\n",
    "X_testCV = X_test1\n",
    "Y_testCV = y_test1\n",
    "\n",
    "xgboostbcv1= xgb.XGBRegressor(learning_rate= 0.07729127514917492, objective='reg:squarederror',\n",
    "                         booster='gbtree', max_depth=19,\n",
    "                         reg_lambda = 0.25, reg_alpha= 1e-5,\n",
    "                         subsample= 0.55 , colsample_bytree=0.8,\n",
    "                         min_child_weight= 0.4, max_delta_step= 0.6)\n",
    "\n",
    "# Training/Fitting:\n",
    "modelxgbbcv1= xgboostbcv1.fit(X_trainCV, Y_trainCV)\n",
    "\n"
   ]
  },
  {
   "cell_type": "code",
   "execution_count": 13,
   "id": "f7b979aa",
   "metadata": {},
   "outputs": [
    {
     "name": "stdout",
     "output_type": "stream",
     "text": [
      "R_squared train:  0.9994362074950945\n",
      "R_squared val:  0.973051104585609\n"
     ]
    }
   ],
   "source": [
    "R_squared_train = modelxgbbcv1.score(X_trainCV, Y_trainCV)\n",
    "R_squared_val = modelxgbbcv1.score(X_testCV, Y_testCV)\n",
    "print('R_squared train: ',R_squared_train )\n",
    "print('R_squared val: ', R_squared_val)\n",
    "\n",
    "R_squared_train_xgb_cv_list.append(R_squared_train)\n",
    "R_squared_val_xgb_cv_list.append(R_squared_val)"
   ]
  },
  {
   "cell_type": "code",
   "execution_count": 14,
   "id": "ed20614e",
   "metadata": {},
   "outputs": [
    {
     "name": "stdout",
     "output_type": "stream",
     "text": [
      "RMSE: 0.007835020271543959\n"
     ]
    }
   ],
   "source": [
    "X_trainCV = X_train1 \n",
    "Y_trainCV = y_train1\n",
    "X_testCV = X_test1\n",
    "Y_testCV = y_test1\n",
    "\n",
    "y_test_pred_xgb = modelxgbbcv1.predict(X_testCV)\n",
    "rmse = np.sqrt(mean_squared_error(Y_testCV,y_test_pred_xgb))\n",
    "print('RMSE:',rmse)\n",
    "\n",
    "rmse_xgb_list.append(rmse)\n"
   ]
  },
  {
   "cell_type": "code",
   "execution_count": 9,
   "id": "bd03f723",
   "metadata": {},
   "outputs": [],
   "source": [
    "# # Saving Model\n",
    "\n",
    "# modelxgbbcv1_pkl_filename = 'modelxgbbcv1.pkl'\n",
    "# modelxgbbcv1_pkl = open(modelxgbbcv1_pkl_filename, 'wb')\n",
    "# pickle.dump(modelxgbbcv1, modelxgbbcv1_pkl)\n",
    "# modelxgbbcv1_pkl.close()"
   ]
  },
  {
   "cell_type": "markdown",
   "id": "84cac70b",
   "metadata": {},
   "source": [
    "### Round 2 XGB:"
   ]
  },
  {
   "cell_type": "code",
   "execution_count": 15,
   "id": "e72f64d8",
   "metadata": {},
   "outputs": [],
   "source": [
    "X_trainCV = X_train2 \n",
    "Y_trainCV = y_train2\n",
    "X_testCV = X_test2\n",
    "Y_testCV = y_test2\n",
    "\n",
    "xgboostbcv2= xgb.XGBRegressor(learning_rate= 0.07729127514917492, objective='reg:squarederror',\n",
    "                         booster='gbtree', max_depth=19,\n",
    "                         reg_lambda = 0.25, reg_alpha= 1e-5,\n",
    "                         subsample= 0.55 , colsample_bytree=0.8,\n",
    "                         min_child_weight= 0.4, max_delta_step= 0.6)\n",
    "\n",
    "# Training/Fitting:\n",
    "modelxgbbcv2= xgboostbcv2.fit(X_trainCV, Y_trainCV)\n",
    "\n"
   ]
  },
  {
   "cell_type": "code",
   "execution_count": 16,
   "id": "8ab35bcd",
   "metadata": {},
   "outputs": [
    {
     "name": "stdout",
     "output_type": "stream",
     "text": [
      "R_squared train:  0.9994382541553422\n",
      "R_squared val:  0.9732455805041803\n"
     ]
    }
   ],
   "source": [
    "R_squared_train = modelxgbbcv2.score(X_trainCV, Y_trainCV)\n",
    "R_squared_val = modelxgbbcv2.score(X_testCV, Y_testCV)\n",
    "print('R_squared train: ',R_squared_train )\n",
    "print('R_squared val: ', R_squared_val)\n",
    "\n",
    "R_squared_train_xgb_cv_list.append(R_squared_train)\n",
    "R_squared_val_xgb_cv_list.append(R_squared_val)"
   ]
  },
  {
   "cell_type": "code",
   "execution_count": 17,
   "id": "f4a3e233",
   "metadata": {},
   "outputs": [
    {
     "name": "stdout",
     "output_type": "stream",
     "text": [
      "RMSE: 0.007292880510033242\n"
     ]
    }
   ],
   "source": [
    "X_trainCV = X_train2 \n",
    "Y_trainCV = y_train2\n",
    "X_testCV = X_test2\n",
    "Y_testCV = y_test2\n",
    "\n",
    "y_test_pred_xgb = modelxgbbcv2.predict(X_testCV)\n",
    "rmse = np.sqrt(mean_squared_error(Y_testCV,y_test_pred_xgb))\n",
    "print('RMSE:',rmse)\n",
    "\n",
    "rmse_xgb_list.append(rmse)\n"
   ]
  },
  {
   "cell_type": "code",
   "execution_count": 18,
   "id": "2c24a0af",
   "metadata": {},
   "outputs": [],
   "source": [
    "# # Saving Model\n",
    "\n",
    "# modelxgbbcv2_pkl_filename = 'modelxgbbcv2.pkl'\n",
    "# modelxgbbcv2_pkl = open(modelxgbbcv2_pkl_filename, 'wb')\n",
    "# pickle.dump(modelxgbbcv2, modelxgbbcv2_pkl)\n",
    "# modelxgbbcv2_pkl.close()"
   ]
  },
  {
   "cell_type": "markdown",
   "id": "7d3463bc",
   "metadata": {},
   "source": [
    "### Round 3 XGB:"
   ]
  },
  {
   "cell_type": "code",
   "execution_count": 19,
   "id": "795b3816",
   "metadata": {},
   "outputs": [],
   "source": [
    "X_trainCV = X_train3 \n",
    "Y_trainCV = y_train3\n",
    "X_testCV = X_test3\n",
    "Y_testCV = y_test3\n",
    "\n",
    "xgboostbcv3= xgb.XGBRegressor(learning_rate= 0.07729127514917492, objective='reg:squarederror',\n",
    "                         booster='gbtree', max_depth=19,\n",
    "                         reg_lambda = 0.25, reg_alpha= 1e-5,\n",
    "                         subsample= 0.55 , colsample_bytree=0.8,\n",
    "                         min_child_weight= 0.4, max_delta_step= 0.6)\n",
    "\n",
    "# Training/Fitting:\n",
    "modelxgbbcv3= xgboostbcv3.fit(X_trainCV, Y_trainCV)\n",
    "\n"
   ]
  },
  {
   "cell_type": "code",
   "execution_count": 20,
   "id": "d2983c85",
   "metadata": {},
   "outputs": [
    {
     "name": "stdout",
     "output_type": "stream",
     "text": [
      "R_squared train:  0.9994133662531399\n",
      "R_squared val:  0.9701867577567458\n"
     ]
    }
   ],
   "source": [
    "R_squared_train = modelxgbbcv3.score(X_trainCV, Y_trainCV)\n",
    "R_squared_val = modelxgbbcv3.score(X_testCV, Y_testCV)\n",
    "print('R_squared train: ',R_squared_train )\n",
    "print('R_squared val: ', R_squared_val)\n",
    "\n",
    "R_squared_train_xgb_cv_list.append(R_squared_train)\n",
    "R_squared_val_xgb_cv_list.append(R_squared_val)"
   ]
  },
  {
   "cell_type": "code",
   "execution_count": 21,
   "id": "11517cf4",
   "metadata": {},
   "outputs": [
    {
     "name": "stdout",
     "output_type": "stream",
     "text": [
      "RMSE: 0.007732840386569825\n"
     ]
    }
   ],
   "source": [
    "X_trainCV = X_train3 \n",
    "Y_trainCV = y_train3\n",
    "X_testCV = X_test3\n",
    "Y_testCV = y_test3\n",
    "\n",
    "y_test_pred_xgb = modelxgbbcv3.predict(X_testCV)\n",
    "rmse = np.sqrt(mean_squared_error(Y_testCV,y_test_pred_xgb))\n",
    "print('RMSE:',rmse)\n",
    "\n",
    "rmse_xgb_list.append(rmse)\n"
   ]
  },
  {
   "cell_type": "code",
   "execution_count": 22,
   "id": "6479c620",
   "metadata": {},
   "outputs": [],
   "source": [
    "# # Saving Model\n",
    "\n",
    "# modelxgbbcv3_pkl_filename = 'modelxgbbcv3.pkl'\n",
    "# modelxgbbcv3_pkl = open(modelxgbbcv3_pkl_filename, 'wb')\n",
    "# pickle.dump(modelxgbbcv3, modelxgbbcv3_pkl)\n",
    "# modelxgbbcv3_pkl.close()"
   ]
  },
  {
   "cell_type": "markdown",
   "id": "38088629",
   "metadata": {},
   "source": [
    "### Round 4 XGB:"
   ]
  },
  {
   "cell_type": "code",
   "execution_count": 23,
   "id": "54da4eb3",
   "metadata": {},
   "outputs": [],
   "source": [
    "X_trainCV = X_train4 \n",
    "Y_trainCV = y_train4\n",
    "X_testCV = X_test4\n",
    "Y_testCV = y_test4\n",
    "\n",
    "xgboostbcv4= xgb.XGBRegressor(learning_rate= 0.07729127514917492, objective='reg:squarederror',\n",
    "                         booster='gbtree', max_depth=19,\n",
    "                         reg_lambda = 0.25, reg_alpha= 1e-5,\n",
    "                         subsample= 0.55 , colsample_bytree=0.8,\n",
    "                         min_child_weight= 0.4, max_delta_step= 0.6)\n",
    "\n",
    "# Training/Fitting:\n",
    "modelxgbbcv4= xgboostbcv4.fit(X_trainCV, Y_trainCV)\n",
    "\n"
   ]
  },
  {
   "cell_type": "code",
   "execution_count": 24,
   "id": "6cbb32d2",
   "metadata": {},
   "outputs": [
    {
     "name": "stdout",
     "output_type": "stream",
     "text": [
      "R_squared train:  0.9994678308994275\n",
      "R_squared val:  0.9717185928353148\n"
     ]
    }
   ],
   "source": [
    "R_squared_train = modelxgbbcv4.score(X_trainCV, Y_trainCV)\n",
    "R_squared_val = modelxgbbcv4.score(X_testCV, Y_testCV)\n",
    "print('R_squared train: ',R_squared_train )\n",
    "print('R_squared val: ', R_squared_val)\n",
    "\n",
    "R_squared_train_xgb_cv_list.append(R_squared_train)\n",
    "R_squared_val_xgb_cv_list.append(R_squared_val)"
   ]
  },
  {
   "cell_type": "code",
   "execution_count": 25,
   "id": "5f3557c5",
   "metadata": {},
   "outputs": [
    {
     "name": "stdout",
     "output_type": "stream",
     "text": [
      "RMSE: 0.007416170414426282\n"
     ]
    }
   ],
   "source": [
    "X_trainCV = X_train4 \n",
    "Y_trainCV = y_train4\n",
    "X_testCV = X_test4\n",
    "Y_testCV = y_test4\n",
    "\n",
    "y_test_pred_xgb = modelxgbbcv4.predict(X_testCV)\n",
    "rmse = np.sqrt(mean_squared_error(Y_testCV,y_test_pred_xgb))\n",
    "print('RMSE:',rmse)\n",
    "\n",
    "rmse_xgb_list.append(rmse)\n"
   ]
  },
  {
   "cell_type": "code",
   "execution_count": 26,
   "id": "cba674cd",
   "metadata": {},
   "outputs": [],
   "source": [
    "# # Saving Model\n",
    "\n",
    "# modelxgbbcv4_pkl_filename = 'modelxgbbcv4.pkl'\n",
    "# modelxgbbcv4_pkl = open(modelxgbbcv4_pkl_filename, 'wb')\n",
    "# pickle.dump(modelxgbbcv4, modelxgbbcv4_pkl)\n",
    "# modelxgbbcv4_pkl.close()"
   ]
  },
  {
   "cell_type": "markdown",
   "id": "0de0a48f",
   "metadata": {},
   "source": [
    "### Round 5 XGB:"
   ]
  },
  {
   "cell_type": "code",
   "execution_count": 27,
   "id": "ad4a6053",
   "metadata": {},
   "outputs": [],
   "source": [
    "X_trainCV = X_train5 \n",
    "Y_trainCV = y_train5\n",
    "X_testCV = X_test5\n",
    "Y_testCV = y_test5\n",
    "\n",
    "xgboostbcv5= xgb.XGBRegressor(learning_rate= 0.07729127514917492, objective='reg:squarederror',\n",
    "                         booster='gbtree', max_depth=19,\n",
    "                         reg_lambda = 0.25, reg_alpha= 1e-5,\n",
    "                         subsample= 0.55 , colsample_bytree=0.8,\n",
    "                         min_child_weight= 0.4, max_delta_step= 0.6)\n",
    "\n",
    "# Training/Fitting:\n",
    "modelxgbbcv5= xgboostbcv5.fit(X_trainCV, Y_trainCV)\n",
    "\n"
   ]
  },
  {
   "cell_type": "code",
   "execution_count": 28,
   "id": "8e95b6d7",
   "metadata": {},
   "outputs": [
    {
     "name": "stdout",
     "output_type": "stream",
     "text": [
      "R_squared train:  0.9993801839025819\n",
      "R_squared val:  0.9717256871587105\n"
     ]
    }
   ],
   "source": [
    "R_squared_train = modelxgbbcv5.score(X_trainCV, Y_trainCV)\n",
    "R_squared_val = modelxgbbcv5.score(X_testCV, Y_testCV)\n",
    "print('R_squared train: ',R_squared_train )\n",
    "print('R_squared val: ', R_squared_val)\n",
    "\n",
    "R_squared_train_xgb_cv_list.append(R_squared_train)\n",
    "R_squared_val_xgb_cv_list.append(R_squared_val)"
   ]
  },
  {
   "cell_type": "code",
   "execution_count": 29,
   "id": "9264b395",
   "metadata": {},
   "outputs": [
    {
     "name": "stdout",
     "output_type": "stream",
     "text": [
      "RMSE: 0.0077563271788740834\n"
     ]
    }
   ],
   "source": [
    "X_trainCV = X_train5 \n",
    "Y_trainCV = y_train5\n",
    "X_testCV = X_test5\n",
    "Y_testCV = y_test5\n",
    "\n",
    "y_test_pred_xgb = modelxgbbcv5.predict(X_testCV)\n",
    "rmse = np.sqrt(mean_squared_error(Y_testCV,y_test_pred_xgb))\n",
    "print('RMSE:',rmse)\n",
    "\n",
    "rmse_xgb_list.append(rmse)\n"
   ]
  },
  {
   "cell_type": "code",
   "execution_count": 30,
   "id": "273ad637",
   "metadata": {},
   "outputs": [],
   "source": [
    "# # Saving Model\n",
    "\n",
    "# modelxgbbcv5_pkl_filename = 'modelxgbbcv5.pkl'\n",
    "# modelxgbbcv5_pkl = open(modelxgbbcv5_pkl_filename, 'wb')\n",
    "# pickle.dump(modelxgbbcv5, modelxgbbcv5_pkl)\n",
    "# modelxgbbcv5_pkl.close()"
   ]
  },
  {
   "cell_type": "markdown",
   "id": "9d989e1e",
   "metadata": {},
   "source": [
    "## XGB Results:"
   ]
  },
  {
   "cell_type": "code",
   "execution_count": 31,
   "id": "a14f04d3",
   "metadata": {},
   "outputs": [
    {
     "name": "stdout",
     "output_type": "stream",
     "text": [
      "[0.9994362074950945, 0.9994382541553422, 0.9994133662531399, 0.9994678308994275, 0.9993801839025819]\n",
      "[0.973051104585609, 0.9732455805041803, 0.9701867577567458, 0.9717185928353148, 0.9717256871587105]\n",
      "[0.007835020271543959, 0.007292880510033242, 0.007732840386569825, 0.007416170414426282, 0.0077563271788740834]\n"
     ]
    }
   ],
   "source": [
    "print(R_squared_train_xgb_cv_list)\n",
    "print(R_squared_val_xgb_cv_list)\n",
    "print(rmse_xgb_list)"
   ]
  },
  {
   "cell_type": "code",
   "execution_count": 67,
   "id": "7a62fc2c",
   "metadata": {},
   "outputs": [
    {
     "name": "stdout",
     "output_type": "stream",
     "text": [
      "0.0002122328993311271\n",
      "0.0011043126192053514\n"
     ]
    }
   ],
   "source": [
    "rmse = rmse_xgb_list\n",
    "print(np.std(rmse))\n",
    "print(np.std(R_squared_val_xgb_cv_list))"
   ]
  },
  {
   "cell_type": "code",
   "execution_count": 33,
   "id": "3c0c2cc1",
   "metadata": {},
   "outputs": [
    {
     "name": "stdout",
     "output_type": "stream",
     "text": [
      "0.007606647752289479\n"
     ]
    }
   ],
   "source": [
    "print(np.mean(rmse))"
   ]
  },
  {
   "cell_type": "markdown",
   "id": "f5fb8618",
   "metadata": {},
   "source": [
    "# Extra Trees"
   ]
  },
  {
   "cell_type": "code",
   "execution_count": 34,
   "id": "fed7c139",
   "metadata": {},
   "outputs": [
    {
     "name": "stdout",
     "output_type": "stream",
     "text": [
      "(2846, 241)\n",
      "(2846, 241)\n",
      "(2846, 241)\n",
      "(2846, 241)\n",
      "(2847, 241) \n",
      "\n",
      "(2846,)\n",
      "(2846,)\n",
      "(2846,)\n",
      "(2846,)\n",
      "(2847,) \n",
      "\n"
     ]
    }
   ],
   "source": [
    "#EXTRA-TREES:\n",
    "\n",
    "y_true = segE_all[:,1]\n",
    "pos = feature[:,:3]\n",
    "zpos = pos[:,2][:,np.newaxis]\n",
    "ypos= pos[:,1][:,np.newaxis]\n",
    "xpos= pos[:,0][:,np.newaxis]\n",
    "\n",
    "feature1 = feature[:,3:]\n",
    "# Separation of each feature:\n",
    "f0= feature1[:,0][:,np.newaxis]\n",
    "f1= feature1[:,1][:,np.newaxis]\n",
    "f2= feature1[:,2][:,np.newaxis]\n",
    "f3= feature1[:,3][:,np.newaxis]\n",
    "f4= feature1[:,4][:,np.newaxis]\n",
    "f5= feature1[:,5][:,np.newaxis]\n",
    "f6= feature1[:,6][:,np.newaxis]\n",
    "f7= feature1[:,7][:,np.newaxis]\n",
    "f8= feature1[:,8][:,np.newaxis]\n",
    "f9= feature1[:,9][:,np.newaxis]\n",
    "f10= feature1[:,10][:,np.newaxis]\n",
    "f11= feature1[:,11][:,np.newaxis]\n",
    "f12= feature1[:,12][:,np.newaxis]\n",
    "f13= feature1[:,13][:,np.newaxis]\n",
    "f14= feature1[:,14][:,np.newaxis]\n",
    "f15= feature1[:,15][:,np.newaxis]\n",
    "f16= feature1[:,16][:,np.newaxis]\n",
    "f17= feature1[:,17][:,np.newaxis]\n",
    "\n",
    "feature1 = np.concatenate([f0,f1,f2,f3,f4,f8,f9,f10,f11,f13,f14,f15,f16,xpos,ypos], axis=1)\n",
    "\n",
    "\n",
    "n= feature1.shape[1]\n",
    "\n",
    "#Adding Interaction Terms\n",
    "feature2 = np.zeros([feature1.shape[0], n*n])  \n",
    "for i in range(n):\n",
    "    feature2[:,i*n:i*n+n] = feature1[:,i][:,np.newaxis]*feature1[:,:]\n",
    "\n",
    "feature_space = np.concatenate([feature1, feature2], axis = 1)\n",
    "feature_space = np.concatenate([np.ones((feature1.shape[0],1)), feature_space], axis = 1)\n",
    "\n",
    "np.random.seed(10)\n",
    "idx0 = np.random.permutation(np.arange(len(feature_space)))\n",
    "feature_space = feature_space[idx0]\n",
    "pos = pos[idx0]\n",
    "y_true = y_true[idx0]\n",
    "\n",
    "\n",
    "\n",
    "\n",
    "X_fold1 = feature_space[0:int(len(feature_space)*.2)]\n",
    "X_fold2 = feature_space[int(len(feature_space)*.2):int(len(feature_space)*.4)]\n",
    "X_fold3 = feature_space[int(len(feature_space)*.4):int(len(feature_space)*.6)]\n",
    "X_fold4 = feature_space[int(len(feature_space)*.6):int(len(feature_space)*.8)]\n",
    "X_fold5 = feature_space[int(len(feature_space)*.8):]\n",
    "\n",
    "X_std1 = np.std(X_fold1, axis = 0)\n",
    "X_std2 = np.std(X_fold2, axis = 0)\n",
    "X_std3 = np.std(X_fold3, axis = 0)\n",
    "X_std4 = np.std(X_fold4, axis = 0)\n",
    "X_std5 = np.std(X_fold5, axis = 0)\n",
    "\n",
    "X_mean1 = np.mean(X_fold1, axis = 0)\n",
    "X_mean2 = np.mean(X_fold2, axis = 0)\n",
    "X_mean3 = np.mean(X_fold3, axis = 0)\n",
    "X_mean4 = np.mean(X_fold4, axis = 0)\n",
    "X_mean5 = np.mean(X_fold5, axis = 0)\n",
    "\n",
    "# X_fold1 = (X_fold1 - X_mean1)/X_std1\n",
    "# X_fold2 = (X_fold2 - X_mean2)/X_std2\n",
    "# X_fold3 = (X_fold3 - X_mean3)/X_std3\n",
    "# X_fold4 = (X_fold4 - X_mean4)/X_std4\n",
    "# X_fold5 = (X_fold5 - X_mean5)/X_std5\n",
    "\n",
    "\n",
    "y_fold1 = y_true[0:int(len(feature_space)*.2)]\n",
    "y_fold2 = y_true[int(len(feature_space)*.2):int(len(feature_space)*.4)]\n",
    "y_fold3 = y_true[int(len(feature_space)*.4):int(len(feature_space)*.6)]\n",
    "y_fold4 = y_true[int(len(feature_space)*.6):int(len(feature_space)*.8)]\n",
    "y_fold5 = y_true[int(len(feature_space)*.8):]\n",
    "\n",
    "\n",
    "\n",
    "print(X_fold1.shape)\n",
    "print(X_fold2.shape)\n",
    "print(X_fold3.shape)\n",
    "print(X_fold4.shape)\n",
    "print(X_fold5.shape,'\\n')\n",
    "\n",
    "print(y_fold1.shape)\n",
    "print(y_fold2.shape)\n",
    "print(y_fold3.shape)\n",
    "print(y_fold4.shape)\n",
    "print(y_fold5.shape, '\\n')\n",
    "\n",
    "\n",
    "\n",
    "X_train1 = np.concatenate([X_fold1,X_fold2,X_fold3,X_fold4], axis=0)\n",
    "X_test1 = X_fold5\n",
    "y_train1 = np.concatenate([y_fold1,y_fold2,y_fold3,y_fold4], axis=0)\n",
    "y_test1 = y_fold5\n",
    "\n",
    "X_train2 = np.concatenate([X_fold1,X_fold2,X_fold3,X_fold5], axis=0)\n",
    "X_test2= X_fold4\n",
    "y_train2 = np.concatenate([y_fold1,y_fold2,y_fold3,y_fold5], axis=0)\n",
    "y_test2 = y_fold4\n",
    "\n",
    "X_train3 = np.concatenate([X_fold1,X_fold2,X_fold4,X_fold5], axis=0)\n",
    "X_test3 = X_fold3\n",
    "y_train3 = np.concatenate([y_fold1,y_fold2,y_fold4,y_fold5], axis=0)\n",
    "y_test3 = y_fold3\n",
    "\n",
    "X_train4 = np.concatenate([X_fold1,X_fold3,X_fold4,X_fold5], axis=0)\n",
    "X_test4 = X_fold2\n",
    "y_train4 = np.concatenate([y_fold1,y_fold3,y_fold4,y_fold5], axis=0)\n",
    "y_test4 = y_fold2\n",
    "\n",
    "X_train5 = np.concatenate([X_fold2,X_fold3,X_fold4,X_fold5], axis=0)\n",
    "X_test5 = X_fold1\n",
    "y_train5 = np.concatenate([y_fold2,y_fold3,y_fold4,y_fold5], axis=0)\n",
    "y_test5 = y_fold1\n",
    "\n"
   ]
  },
  {
   "cell_type": "code",
   "execution_count": 35,
   "id": "bd9c0f8f",
   "metadata": {},
   "outputs": [],
   "source": [
    "R_squared_train_xtree_cv_list = []\n",
    "R_squared_val_xtree_cv_list = []\n",
    "rmse_xtree_list = []"
   ]
  },
  {
   "cell_type": "code",
   "execution_count": 36,
   "id": "6ccdb0b1",
   "metadata": {},
   "outputs": [],
   "source": [
    "X_trainCV = X_train1 \n",
    "Y_trainCV = y_train1\n",
    "X_testCV = X_test1\n",
    "Y_testCV = y_test1\n",
    "\n",
    "\n",
    "\n",
    "xtreebcv1 = ExtraTreesRegressor(n_estimators = 330, criterion='mse', max_features = 1.0,min_samples_split=2 )\n",
    "\n",
    "modelxtreebcv1= xtreebcv1.fit(X_trainCV, Y_trainCV)\n",
    "\n"
   ]
  },
  {
   "cell_type": "code",
   "execution_count": 37,
   "id": "f2c112e1",
   "metadata": {},
   "outputs": [
    {
     "name": "stdout",
     "output_type": "stream",
     "text": [
      "R_squared train:  0.9999979576066643\n",
      "R_squared val:  0.9731556342007376\n",
      "RMSE: 0.007819810234863282\n"
     ]
    }
   ],
   "source": [
    "R_squared_train = modelxtreebcv1.score(X_trainCV, Y_trainCV)\n",
    "R_squared_val = modelxtreebcv1.score(X_testCV, Y_testCV)\n",
    "\n",
    "y_test_pred_xtree = modelxtreebcv1.predict(X_testCV)\n",
    "rmse = np.sqrt(mean_squared_error(Y_testCV,y_test_pred_xtree))\n",
    "\n",
    "print('R_squared train: ',R_squared_train )\n",
    "print('R_squared val: ', R_squared_val)\n",
    "print('RMSE:', rmse)\n",
    "\n",
    "\n",
    "R_squared_train_xtree_cv_list.append(R_squared_train)\n",
    "R_squared_val_xtree_cv_list.append(R_squared_val)\n",
    "\n",
    "\n",
    "rmse_xtree_list.append(rmse)"
   ]
  },
  {
   "cell_type": "code",
   "execution_count": 38,
   "id": "c3f97184",
   "metadata": {},
   "outputs": [],
   "source": [
    "# # Saving Model\n",
    "\n",
    "# modelxtreebcv1_pkl_filename = 'modelxtreebcv1.pkl'\n",
    "# modelxtreebcv1_pkl = open(modelxtreebcv1_pkl_filename, 'wb')\n",
    "# pickle.dump(modelxtreebcv1, modelxtreebcv1_pkl)\n",
    "# modelxtreebcv1_pkl.close()"
   ]
  },
  {
   "cell_type": "markdown",
   "id": "65ea3b9b",
   "metadata": {},
   "source": [
    "### Round 2 Xtree"
   ]
  },
  {
   "cell_type": "code",
   "execution_count": 39,
   "id": "e028a351",
   "metadata": {},
   "outputs": [],
   "source": [
    "X_trainCV = X_train2 \n",
    "Y_trainCV = y_train2\n",
    "X_testCV = X_test2\n",
    "Y_testCV = y_test2\n",
    "\n",
    "\n",
    "\n",
    "xtreebcv2 = ExtraTreesRegressor(n_estimators = 330, criterion='mse', max_features = 1.0,min_samples_split=2 )\n",
    "\n",
    "modelxtreebcv2= xtreebcv2.fit(X_trainCV, Y_trainCV)\n",
    "\n"
   ]
  },
  {
   "cell_type": "code",
   "execution_count": 40,
   "id": "82d62ff4",
   "metadata": {},
   "outputs": [
    {
     "name": "stdout",
     "output_type": "stream",
     "text": [
      "R_squared train:  0.9999980232565081\n",
      "R_squared val:  0.9732858395502967\n",
      "RMSE: 0.007287391417899801\n"
     ]
    }
   ],
   "source": [
    "R_squared_train = modelxtreebcv2.score(X_trainCV, Y_trainCV)\n",
    "R_squared_val = modelxtreebcv2.score(X_testCV, Y_testCV)\n",
    "\n",
    "y_test_pred_xtree = modelxtreebcv2.predict(X_testCV)\n",
    "rmse = np.sqrt(mean_squared_error(Y_testCV,y_test_pred_xtree))\n",
    "\n",
    "print('R_squared train: ',R_squared_train )\n",
    "print('R_squared val: ', R_squared_val)\n",
    "print('RMSE:', rmse)\n",
    "\n",
    "\n",
    "R_squared_train_xtree_cv_list.append(R_squared_train)\n",
    "R_squared_val_xtree_cv_list.append(R_squared_val)\n",
    "\n",
    "\n",
    "rmse_xtree_list.append(rmse)"
   ]
  },
  {
   "cell_type": "code",
   "execution_count": 33,
   "id": "ae1582fb",
   "metadata": {},
   "outputs": [],
   "source": [
    "# # Saving Model\n",
    "\n",
    "# modelxtreebcv2_pkl_filename = 'modelxtreebcv2.pkl'\n",
    "# modelxtreebcv2_pkl = open(modelxtreebcv2_pkl_filename, 'wb')\n",
    "# pickle.dump(modelxtreebcv2, modelxtreebcv2_pkl)\n",
    "# modelxtreebcv2_pkl.close()"
   ]
  },
  {
   "cell_type": "markdown",
   "id": "8365d9ef",
   "metadata": {},
   "source": [
    "### Round 3 Xtree"
   ]
  },
  {
   "cell_type": "code",
   "execution_count": 41,
   "id": "235d6a4e",
   "metadata": {},
   "outputs": [],
   "source": [
    "X_trainCV = X_train3 \n",
    "Y_trainCV = y_train3\n",
    "X_testCV = X_test3\n",
    "Y_testCV = y_test3\n",
    "\n",
    "\n",
    "\n",
    "xtreebcv3 = ExtraTreesRegressor(n_estimators = 330, criterion='mse', max_features = 1.0,min_samples_split=2 )\n",
    "\n",
    "modelxtreebcv3= xtreebcv3.fit(X_trainCV, Y_trainCV)\n",
    "\n"
   ]
  },
  {
   "cell_type": "code",
   "execution_count": 42,
   "id": "8c9c53ac",
   "metadata": {},
   "outputs": [
    {
     "name": "stdout",
     "output_type": "stream",
     "text": [
      "R_squared train:  0.9999980394803554\n",
      "R_squared val:  0.9694402076802744\n",
      "RMSE: 0.007829060349801934\n"
     ]
    }
   ],
   "source": [
    "R_squared_train = modelxtreebcv3.score(X_trainCV, Y_trainCV)\n",
    "R_squared_val = modelxtreebcv3.score(X_testCV, Y_testCV)\n",
    "\n",
    "y_test_pred_xtree = modelxtreebcv3.predict(X_testCV)\n",
    "rmse = np.sqrt(mean_squared_error(Y_testCV,y_test_pred_xtree))\n",
    "\n",
    "print('R_squared train: ',R_squared_train )\n",
    "print('R_squared val: ', R_squared_val)\n",
    "print('RMSE:', rmse)\n",
    "\n",
    "\n",
    "R_squared_train_xtree_cv_list.append(R_squared_train)\n",
    "R_squared_val_xtree_cv_list.append(R_squared_val)\n",
    "\n",
    "\n",
    "rmse_xtree_list.append(rmse)"
   ]
  },
  {
   "cell_type": "code",
   "execution_count": 43,
   "id": "46f0aca5",
   "metadata": {},
   "outputs": [],
   "source": [
    "# # Saving Model\n",
    "\n",
    "# modelxtreebcv3_pkl_filename = 'modelxtreebcv3.pkl'\n",
    "# modelxtreebcv3_pkl = open(modelxtreebcv3_pkl_filename, 'wb')\n",
    "# pickle.dump(modelxtreebcv3, modelxtreebcv3_pkl)\n",
    "# modelxtreebcv3_pkl.close()"
   ]
  },
  {
   "cell_type": "markdown",
   "id": "dcacd505",
   "metadata": {},
   "source": [
    "### Round 4 Xtree"
   ]
  },
  {
   "cell_type": "code",
   "execution_count": 44,
   "id": "a4f2604d",
   "metadata": {},
   "outputs": [],
   "source": [
    "X_trainCV = X_train4 \n",
    "Y_trainCV = y_train4\n",
    "X_testCV = X_test4\n",
    "Y_testCV = y_test4\n",
    "\n",
    "\n",
    "\n",
    "xtreebcv4 = ExtraTreesRegressor(n_estimators = 330, criterion='mse', max_features = 1.0,min_samples_split=2 )\n",
    "\n",
    "modelxtreebcv4= xtreebcv4.fit(X_trainCV, Y_trainCV)\n",
    "\n"
   ]
  },
  {
   "cell_type": "code",
   "execution_count": 45,
   "id": "c48acdbc",
   "metadata": {},
   "outputs": [
    {
     "name": "stdout",
     "output_type": "stream",
     "text": [
      "R_squared train:  0.9999980832660245\n",
      "R_squared val:  0.972441164239135\n",
      "RMSE: 0.007320818282651853\n"
     ]
    }
   ],
   "source": [
    "R_squared_train = modelxtreebcv4.score(X_trainCV, Y_trainCV)\n",
    "R_squared_val = modelxtreebcv4.score(X_testCV, Y_testCV)\n",
    "\n",
    "y_test_pred_xtree = modelxtreebcv4.predict(X_testCV)\n",
    "rmse = np.sqrt(mean_squared_error(Y_testCV,y_test_pred_xtree))\n",
    "\n",
    "print('R_squared train: ',R_squared_train )\n",
    "print('R_squared val: ', R_squared_val)\n",
    "print('RMSE:', rmse)\n",
    "\n",
    "\n",
    "R_squared_train_xtree_cv_list.append(R_squared_train)\n",
    "R_squared_val_xtree_cv_list.append(R_squared_val)\n",
    "\n",
    "\n",
    "rmse_xtree_list.append(rmse)"
   ]
  },
  {
   "cell_type": "code",
   "execution_count": 46,
   "id": "ab42f69e",
   "metadata": {},
   "outputs": [],
   "source": [
    "# # Saving Model\n",
    "\n",
    "# modelxtreebcv4_pkl_filename = 'modelxtreebcv4.pkl'\n",
    "# modelxtreebcv4_pkl = open(modelxtreebcv4_pkl_filename, 'wb')\n",
    "# pickle.dump(modelxtreebcv4, modelxtreebcv4_pkl)\n",
    "# modelxtreebcv4_pkl.close()"
   ]
  },
  {
   "cell_type": "markdown",
   "id": "a5426ca1",
   "metadata": {},
   "source": [
    "### Round 5 Xtree"
   ]
  },
  {
   "cell_type": "code",
   "execution_count": 47,
   "id": "df36c251",
   "metadata": {},
   "outputs": [],
   "source": [
    "X_trainCV = X_train5 \n",
    "Y_trainCV = y_train5\n",
    "X_testCV = X_test5\n",
    "Y_testCV = y_test5\n",
    "\n",
    "\n",
    "\n",
    "xtreebcv5 = ExtraTreesRegressor(n_estimators = 330, criterion='mse', max_features = 1.0,min_samples_split=2 )\n",
    "\n",
    "modelxtreebcv5= xtreebcv5.fit(X_trainCV, Y_trainCV)\n",
    "\n"
   ]
  },
  {
   "cell_type": "code",
   "execution_count": 48,
   "id": "5c4feefd",
   "metadata": {},
   "outputs": [
    {
     "name": "stdout",
     "output_type": "stream",
     "text": [
      "R_squared train:  0.9999980435857009\n",
      "R_squared val:  0.970974189612624\n",
      "RMSE: 0.00785872818413047\n"
     ]
    }
   ],
   "source": [
    "R_squared_train = modelxtreebcv5.score(X_trainCV, Y_trainCV)\n",
    "R_squared_val = modelxtreebcv5.score(X_testCV, Y_testCV)\n",
    "\n",
    "y_test_pred_xtree = modelxtreebcv5.predict(X_testCV)\n",
    "rmse = np.sqrt(mean_squared_error(Y_testCV,y_test_pred_xtree))\n",
    "\n",
    "print('R_squared train: ',R_squared_train )\n",
    "print('R_squared val: ', R_squared_val)\n",
    "print('RMSE:', rmse)\n",
    "\n",
    "\n",
    "R_squared_train_xtree_cv_list.append(R_squared_train)\n",
    "R_squared_val_xtree_cv_list.append(R_squared_val)\n",
    "\n",
    "\n",
    "rmse_xtree_list.append(rmse)"
   ]
  },
  {
   "cell_type": "code",
   "execution_count": 42,
   "id": "aaac22bc",
   "metadata": {},
   "outputs": [],
   "source": [
    "# # Saving Model\n",
    "\n",
    "# modelxtreebcv5_pkl_filename = 'modelxtreebcv5.pkl'\n",
    "# modelxtreebcv5_pkl = open(modelxtreebcv5_pkl_filename, 'wb')\n",
    "# pickle.dump(modelxtreebcv5, modelxtreebcv5_pkl)\n",
    "# modelxtreebcv5_pkl.close()"
   ]
  },
  {
   "cell_type": "markdown",
   "id": "6fefdfc5",
   "metadata": {},
   "source": [
    "### XTREE Results"
   ]
  },
  {
   "cell_type": "code",
   "execution_count": 43,
   "id": "03acf152",
   "metadata": {},
   "outputs": [
    {
     "name": "stdout",
     "output_type": "stream",
     "text": [
      "[1.0, 1.0, 1.0, 1.0, 1.0]\n",
      "[0.9732088416575441, 0.9734740206525311, 0.969061142741724, 0.9728166221412193, 0.971146530520792]\n",
      "[0.0078120566787868865, 0.007261678969888768, 0.007877466699391034, 0.0072707783379404286, 0.007835362828692714]\n"
     ]
    }
   ],
   "source": [
    "print(R_squared_train_xtree_cv_list)\n",
    "print(R_squared_val_xtree_cv_list)\n",
    "print(rmse_xtree_list)"
   ]
  },
  {
   "cell_type": "code",
   "execution_count": 49,
   "id": "a47220d1",
   "metadata": {},
   "outputs": [
    {
     "name": "stdout",
     "output_type": "stream",
     "text": [
      "0.00026104010919976586\n",
      "0.007623161693869468\n",
      "0.0014621553565361898\n",
      "0.9718594070566136\n"
     ]
    }
   ],
   "source": [
    "rmse = rmse_xtree_list\n",
    "print(np.std(rmse))\n",
    "print(np.mean(rmse))\n",
    "print(np.std(R_squared_val_xtree_cv_list))\n",
    "print(np.mean(R_squared_val_xtree_cv_list))"
   ]
  },
  {
   "cell_type": "code",
   "execution_count": null,
   "id": "0088b5ee",
   "metadata": {},
   "outputs": [],
   "source": []
  },
  {
   "cell_type": "markdown",
   "id": "a6b97d1f",
   "metadata": {},
   "source": [
    "# Random Forests (RF)"
   ]
  },
  {
   "cell_type": "code",
   "execution_count": 50,
   "id": "a6f2c4af",
   "metadata": {},
   "outputs": [
    {
     "name": "stdout",
     "output_type": "stream",
     "text": [
      "(2846, 241)\n",
      "(2846, 241)\n",
      "(2846, 241)\n",
      "(2846, 241)\n",
      "(2847, 241) \n",
      "\n",
      "(2846,)\n",
      "(2846,)\n",
      "(2846,)\n",
      "(2846,)\n",
      "(2847,) \n",
      "\n"
     ]
    }
   ],
   "source": [
    "#Random Forest:\n",
    "y_true = segE_all[:,1]\n",
    "pos = feature[:,:3]\n",
    "zpos = pos[:,2][:,np.newaxis]\n",
    "ypos= pos[:,1][:,np.newaxis]\n",
    "xpos= pos[:,0][:,np.newaxis]\n",
    "feature1 = feature[:,3:]\n",
    "\n",
    "# Separation of each feature:\n",
    "f0= feature1[:,0][:,np.newaxis]\n",
    "f1= feature1[:,1][:,np.newaxis]\n",
    "f2= feature1[:,2][:,np.newaxis]\n",
    "f3= feature1[:,3][:,np.newaxis]\n",
    "f4= feature1[:,4][:,np.newaxis]\n",
    "f5= feature1[:,5][:,np.newaxis]\n",
    "f6= feature1[:,6][:,np.newaxis]\n",
    "f7= feature1[:,7][:,np.newaxis]\n",
    "f8= feature1[:,8][:,np.newaxis]\n",
    "f9= feature1[:,9][:,np.newaxis]\n",
    "f10= feature1[:,10][:,np.newaxis]\n",
    "f11= feature1[:,11][:,np.newaxis]\n",
    "f12= feature1[:,12][:,np.newaxis]\n",
    "f13= feature1[:,13][:,np.newaxis]\n",
    "f14= feature1[:,14][:,np.newaxis]\n",
    "f15= feature1[:,15][:,np.newaxis]\n",
    "f16= feature1[:,16][:,np.newaxis]\n",
    "f17= feature1[:,17][:,np.newaxis]\n",
    "\n",
    "feature1 = np.concatenate([f0,f1,f2,f3,f4,f8,f9,f10,f11,f13,f14,f15,f16,xpos,ypos], axis=1)\n",
    "\n",
    "\n",
    "# Adding Interaction Term:\n",
    "n= feature1.shape[1]\n",
    "#feature1 = feature1/np.max(feature1)   \n",
    "\n",
    "#Adding Interaction Term:\n",
    "feature2 = np.zeros([feature1.shape[0], n*n])  \n",
    "for i in range(n):\n",
    "    feature2[:,i*n:i*n+n] = feature1[:,i][:,np.newaxis]*feature1[:,:]\n",
    "\n",
    "feature_space = np.concatenate([feature1, feature2], axis = 1)\n",
    "feature_space = np.concatenate([np.ones((feature1.shape[0],1)), feature_space], axis = 1)\n",
    "\n",
    "\n",
    "np.random.seed(10)\n",
    "idx0 = np.random.permutation(np.arange(len(feature_space)))\n",
    "feature_space = feature_space[idx0]\n",
    "pos = pos[idx0]\n",
    "y_true = y_true[idx0]\n",
    "\n",
    "\n",
    "\n",
    "\n",
    "\n",
    "X_fold1 = feature_space[0:int(len(feature_space)*.2)]\n",
    "X_fold2 = feature_space[int(len(feature_space)*.2):int(len(feature_space)*.4)]\n",
    "X_fold3 = feature_space[int(len(feature_space)*.4):int(len(feature_space)*.6)]\n",
    "X_fold4 = feature_space[int(len(feature_space)*.6):int(len(feature_space)*.8)]\n",
    "X_fold5 = feature_space[int(len(feature_space)*.8):]\n",
    "\n",
    "X_std1 = np.std(X_fold1, axis = 0)\n",
    "X_std2 = np.std(X_fold2, axis = 0)\n",
    "X_std3 = np.std(X_fold3, axis = 0)\n",
    "X_std4 = np.std(X_fold4, axis = 0)\n",
    "X_std5 = np.std(X_fold5, axis = 0)\n",
    "\n",
    "X_mean1 = np.mean(X_fold1, axis = 0)\n",
    "X_mean2 = np.mean(X_fold2, axis = 0)\n",
    "X_mean3 = np.mean(X_fold3, axis = 0)\n",
    "X_mean4 = np.mean(X_fold4, axis = 0)\n",
    "X_mean5 = np.mean(X_fold5, axis = 0)\n",
    "\n",
    "# X_fold1 = (X_fold1 - X_mean1)/X_std1\n",
    "# X_fold2 = (X_fold2 - X_mean2)/X_std2\n",
    "# X_fold3 = (X_fold3 - X_mean3)/X_std3\n",
    "# X_fold4 = (X_fold4 - X_mean4)/X_std4\n",
    "# X_fold5 = (X_fold5 - X_mean5)/X_std5\n",
    "\n",
    "\n",
    "y_fold1 = y_true[0:int(len(feature_space)*.2)]\n",
    "y_fold2 = y_true[int(len(feature_space)*.2):int(len(feature_space)*.4)]\n",
    "y_fold3 = y_true[int(len(feature_space)*.4):int(len(feature_space)*.6)]\n",
    "y_fold4 = y_true[int(len(feature_space)*.6):int(len(feature_space)*.8)]\n",
    "y_fold5 = y_true[int(len(feature_space)*.8):]\n",
    "\n",
    "\n",
    "\n",
    "print(X_fold1.shape)\n",
    "print(X_fold2.shape)\n",
    "print(X_fold3.shape)\n",
    "print(X_fold4.shape)\n",
    "print(X_fold5.shape,'\\n')\n",
    "\n",
    "print(y_fold1.shape)\n",
    "print(y_fold2.shape)\n",
    "print(y_fold3.shape)\n",
    "print(y_fold4.shape)\n",
    "print(y_fold5.shape, '\\n')\n",
    "\n",
    "\n",
    "\n",
    "X_train1 = np.concatenate([X_fold1,X_fold2,X_fold3,X_fold4], axis=0)\n",
    "X_test1 = X_fold5\n",
    "y_train1 = np.concatenate([y_fold1,y_fold2,y_fold3,y_fold4], axis=0)\n",
    "y_test1 = y_fold5\n",
    "\n",
    "X_train2 = np.concatenate([X_fold1,X_fold2,X_fold3,X_fold5], axis=0)\n",
    "X_test2= X_fold4\n",
    "y_train2 = np.concatenate([y_fold1,y_fold2,y_fold3,y_fold5], axis=0)\n",
    "y_test2 = y_fold4\n",
    "\n",
    "X_train3 = np.concatenate([X_fold1,X_fold2,X_fold4,X_fold5], axis=0)\n",
    "X_test3 = X_fold3\n",
    "y_train3 = np.concatenate([y_fold1,y_fold2,y_fold4,y_fold5], axis=0)\n",
    "y_test3 = y_fold3\n",
    "\n",
    "X_train4 = np.concatenate([X_fold1,X_fold3,X_fold4,X_fold5], axis=0)\n",
    "X_test4 = X_fold2\n",
    "y_train4 = np.concatenate([y_fold1,y_fold3,y_fold4,y_fold5], axis=0)\n",
    "y_test4 = y_fold2\n",
    "\n",
    "X_train5 = np.concatenate([X_fold2,X_fold3,X_fold4,X_fold5], axis=0)\n",
    "X_test5 = X_fold1\n",
    "y_train5 = np.concatenate([y_fold2,y_fold3,y_fold4,y_fold5], axis=0)\n",
    "y_test5 = y_fold1\n",
    "\n"
   ]
  },
  {
   "cell_type": "code",
   "execution_count": 51,
   "id": "0525619c",
   "metadata": {},
   "outputs": [],
   "source": [
    "R_squared_train_rf_cv_list = []\n",
    "R_squared_val_rf_cv_list = []\n",
    "rmse_rf_list = []"
   ]
  },
  {
   "cell_type": "code",
   "execution_count": 52,
   "id": "296214d9",
   "metadata": {},
   "outputs": [],
   "source": [
    "X_trainCV = X_train1 \n",
    "Y_trainCV = y_train1\n",
    "X_testCV = X_test1\n",
    "Y_testCV = y_test1\n",
    "\n",
    "\n",
    "\n",
    "rfbcv1 = RandomForestRegressor(n_estimators= 60, criterion='mse',\n",
    "                          min_samples_split=2, min_samples_leaf=1,\n",
    "                           min_weight_fraction_leaf=0.0, max_features = 0.48)\n",
    "\n",
    "modelrfbcv1= rfbcv1.fit(X_trainCV, Y_trainCV)\n",
    "\n"
   ]
  },
  {
   "cell_type": "code",
   "execution_count": 53,
   "id": "864e9af1",
   "metadata": {},
   "outputs": [
    {
     "name": "stdout",
     "output_type": "stream",
     "text": [
      "R_squared train:  0.9949537210172115\n",
      "R_squared val:  0.9676771891684466\n",
      "RMSE: 0.008580729278890722\n"
     ]
    }
   ],
   "source": [
    "R_squared_train = modelrfbcv1.score(X_trainCV, Y_trainCV)\n",
    "R_squared_val = modelrfbcv1.score(X_testCV, Y_testCV)\n",
    "\n",
    "y_test_pred_rf = modelrfbcv1.predict(X_testCV)\n",
    "rmse = np.sqrt(mean_squared_error(Y_testCV,y_test_pred_rf))\n",
    "\n",
    "print('R_squared train: ',R_squared_train )\n",
    "print('R_squared val: ', R_squared_val)\n",
    "print('RMSE:', rmse)\n",
    "\n",
    "\n",
    "R_squared_train_rf_cv_list.append(R_squared_train)\n",
    "R_squared_val_rf_cv_list.append(R_squared_val)\n",
    "\n",
    "\n",
    "rmse_rf_list.append(rmse)"
   ]
  },
  {
   "cell_type": "code",
   "execution_count": 54,
   "id": "5c809fc2",
   "metadata": {},
   "outputs": [],
   "source": [
    "# # Saving Model\n",
    "\n",
    "# modelrfbcv1_pkl_filename = 'modelrfbcv1.pkl'\n",
    "# modelrfbcv1_pkl = open(modelrfbcv1_pkl_filename, 'wb')\n",
    "# pickle.dump(modelrfbcv1, modelrfbcv1_pkl)\n",
    "# modelrfbcv1_pkl.close()"
   ]
  },
  {
   "cell_type": "markdown",
   "id": "19827055",
   "metadata": {},
   "source": [
    "### Round 2 RF"
   ]
  },
  {
   "cell_type": "code",
   "execution_count": 55,
   "id": "d3feb283",
   "metadata": {},
   "outputs": [],
   "source": [
    "X_trainCV = X_train2 \n",
    "Y_trainCV = y_train2\n",
    "X_testCV = X_test2\n",
    "Y_testCV = y_test2\n",
    "\n",
    "\n",
    "\n",
    "rfbcv2 = RandomForestRegressor(n_estimators= 60, criterion='mse',\n",
    "                          min_samples_split=2, min_samples_leaf=1,\n",
    "                           min_weight_fraction_leaf=0.0, max_features = 0.48)\n",
    "\n",
    "modelrfbcv2= rfbcv2.fit(X_trainCV, Y_trainCV)\n",
    "\n"
   ]
  },
  {
   "cell_type": "code",
   "execution_count": 56,
   "id": "31ca4a30",
   "metadata": {},
   "outputs": [
    {
     "name": "stdout",
     "output_type": "stream",
     "text": [
      "R_squared train:  0.9950086397933595\n",
      "R_squared val:  0.9652251064668169\n",
      "RMSE: 0.00831446359906025\n"
     ]
    }
   ],
   "source": [
    "R_squared_train = modelrfbcv2.score(X_trainCV, Y_trainCV)\n",
    "R_squared_val = modelrfbcv2.score(X_testCV, Y_testCV)\n",
    "\n",
    "y_test_pred_rf = modelrfbcv2.predict(X_testCV)\n",
    "rmse = np.sqrt(mean_squared_error(Y_testCV,y_test_pred_rf))\n",
    "\n",
    "print('R_squared train: ',R_squared_train )\n",
    "print('R_squared val: ', R_squared_val)\n",
    "print('RMSE:', rmse)\n",
    "\n",
    "\n",
    "R_squared_train_rf_cv_list.append(R_squared_train)\n",
    "R_squared_val_rf_cv_list.append(R_squared_val)\n",
    "\n",
    "\n",
    "rmse_rf_list.append(rmse)"
   ]
  },
  {
   "cell_type": "code",
   "execution_count": 50,
   "id": "0abf3d5e",
   "metadata": {},
   "outputs": [],
   "source": [
    "# # Saving Model\n",
    "\n",
    "# modelrfbcv2_pkl_filename = 'modelrfbcv2.pkl'\n",
    "# modelrfbcv2_pkl = open(modelrfbcv2_pkl_filename, 'wb')\n",
    "# pickle.dump(modelrfbcv2, modelrfbcv2_pkl)\n",
    "# modelrfbcv2_pkl.close()"
   ]
  },
  {
   "cell_type": "markdown",
   "id": "0e0b5bbe",
   "metadata": {},
   "source": [
    "### Round 3 RF"
   ]
  },
  {
   "cell_type": "code",
   "execution_count": 57,
   "id": "b6323470",
   "metadata": {},
   "outputs": [],
   "source": [
    "X_trainCV = X_train3 \n",
    "Y_trainCV = y_train3\n",
    "X_testCV = X_test3\n",
    "Y_testCV = y_test3\n",
    "\n",
    "\n",
    "\n",
    "rfbcv3 = RandomForestRegressor(n_estimators= 60, criterion='mse',\n",
    "                          min_samples_split=2, min_samples_leaf=1,\n",
    "                           min_weight_fraction_leaf=0.0, max_features = 0.48)\n",
    "modelrfbcv3= rfbcv3.fit(X_trainCV, Y_trainCV)\n",
    "\n"
   ]
  },
  {
   "cell_type": "code",
   "execution_count": 58,
   "id": "b70c5314",
   "metadata": {},
   "outputs": [
    {
     "name": "stdout",
     "output_type": "stream",
     "text": [
      "R_squared train:  0.9951752412183953\n",
      "R_squared val:  0.9632506138162356\n",
      "RMSE: 0.00858537928794307\n"
     ]
    }
   ],
   "source": [
    "R_squared_train = modelrfbcv3.score(X_trainCV, Y_trainCV)\n",
    "R_squared_val = modelrfbcv3.score(X_testCV, Y_testCV)\n",
    "\n",
    "y_test_pred_rf = modelrfbcv3.predict(X_testCV)\n",
    "rmse = np.sqrt(mean_squared_error(Y_testCV,y_test_pred_rf))\n",
    "\n",
    "print('R_squared train: ',R_squared_train )\n",
    "print('R_squared val: ', R_squared_val)\n",
    "print('RMSE:', rmse)\n",
    "\n",
    "\n",
    "R_squared_train_rf_cv_list.append(R_squared_train)\n",
    "R_squared_val_rf_cv_list.append(R_squared_val)\n",
    "\n",
    "\n",
    "rmse_rf_list.append(rmse)"
   ]
  },
  {
   "cell_type": "code",
   "execution_count": 53,
   "id": "4236db10",
   "metadata": {},
   "outputs": [],
   "source": [
    "# # Saving Model\n",
    "\n",
    "# modelrfbcv3_pkl_filename = 'modelrfbcv3.pkl'\n",
    "# modelrfbcv3_pkl = open(modelrfbcv3_pkl_filename, 'wb')\n",
    "# pickle.dump(modelrfbcv3, modelrfbcv3_pkl)\n",
    "# modelrfbcv3_pkl.close()"
   ]
  },
  {
   "cell_type": "markdown",
   "id": "496107d8",
   "metadata": {},
   "source": [
    "### Round 4 RF"
   ]
  },
  {
   "cell_type": "code",
   "execution_count": 59,
   "id": "b5ec8f17",
   "metadata": {},
   "outputs": [],
   "source": [
    "X_trainCV = X_train4 \n",
    "Y_trainCV = y_train4\n",
    "X_testCV = X_test4\n",
    "Y_testCV = y_test4\n",
    "\n",
    "\n",
    "\n",
    "rfbcv4 = RandomForestRegressor(n_estimators= 60, criterion='mse',\n",
    "                          min_samples_split=2, min_samples_leaf=1,\n",
    "                           min_weight_fraction_leaf=0.0, max_features = 0.48)\n",
    "\n",
    "modelrfbcv4= rfbcv4.fit(X_trainCV, Y_trainCV)\n",
    "\n"
   ]
  },
  {
   "cell_type": "code",
   "execution_count": 60,
   "id": "bc5d7299",
   "metadata": {},
   "outputs": [
    {
     "name": "stdout",
     "output_type": "stream",
     "text": [
      "R_squared train:  0.9951070050914994\n",
      "R_squared val:  0.9665657432661077\n",
      "RMSE: 0.008063526733344501\n"
     ]
    }
   ],
   "source": [
    "R_squared_train = modelrfbcv4.score(X_trainCV, Y_trainCV)\n",
    "R_squared_val = modelrfbcv4.score(X_testCV, Y_testCV)\n",
    "\n",
    "y_test_pred_rf = modelrfbcv4.predict(X_testCV)\n",
    "rmse = np.sqrt(mean_squared_error(Y_testCV,y_test_pred_rf))\n",
    "\n",
    "print('R_squared train: ',R_squared_train )\n",
    "print('R_squared val: ', R_squared_val)\n",
    "print('RMSE:', rmse)\n",
    "\n",
    "\n",
    "R_squared_train_rf_cv_list.append(R_squared_train)\n",
    "R_squared_val_rf_cv_list.append(R_squared_val)\n",
    "\n",
    "\n",
    "rmse_rf_list.append(rmse)"
   ]
  },
  {
   "cell_type": "code",
   "execution_count": 61,
   "id": "93adb798",
   "metadata": {},
   "outputs": [],
   "source": [
    "# # Saving Model\n",
    "\n",
    "# modelrfbcv4_pkl_filename = 'modelrfbcv4.pkl'\n",
    "# modelrfbcv4_pkl = open(modelrfbcv4_pkl_filename, 'wb')\n",
    "# pickle.dump(modelrfbcv4, modelrfbcv4_pkl)\n",
    "# modelrfbcv4_pkl.close()"
   ]
  },
  {
   "cell_type": "markdown",
   "id": "66fc3907",
   "metadata": {},
   "source": [
    "### Round 5 RF"
   ]
  },
  {
   "cell_type": "code",
   "execution_count": 62,
   "id": "60be6943",
   "metadata": {},
   "outputs": [],
   "source": [
    "X_trainCV = X_train5 \n",
    "Y_trainCV = y_train5\n",
    "X_testCV = X_test5\n",
    "Y_testCV = y_test5\n",
    "\n",
    "\n",
    "\n",
    "rfbcv5 = RandomForestRegressor(n_estimators= 60, criterion='mse',\n",
    "                          min_samples_split=2, min_samples_leaf=1,\n",
    "                           min_weight_fraction_leaf=0.0, max_features = 0.48)\n",
    "\n",
    "modelrfbcv5= rfbcv5.fit(X_trainCV, Y_trainCV)\n",
    "\n"
   ]
  },
  {
   "cell_type": "code",
   "execution_count": 63,
   "id": "c49e3138",
   "metadata": {},
   "outputs": [
    {
     "name": "stdout",
     "output_type": "stream",
     "text": [
      "R_squared train:  0.9950745851108085\n",
      "R_squared val:  0.9651086450135405\n",
      "RMSE: 0.008616264224899355\n"
     ]
    }
   ],
   "source": [
    "R_squared_train = modelrfbcv5.score(X_trainCV, Y_trainCV)\n",
    "R_squared_val = modelrfbcv5.score(X_testCV, Y_testCV)\n",
    "\n",
    "y_test_pred_rf = modelrfbcv5.predict(X_testCV)\n",
    "rmse = np.sqrt(mean_squared_error(Y_testCV,y_test_pred_rf))\n",
    "\n",
    "print('R_squared train: ',R_squared_train )\n",
    "print('R_squared val: ', R_squared_val)\n",
    "print('RMSE:', rmse)\n",
    "\n",
    "\n",
    "R_squared_train_rf_cv_list.append(R_squared_train)\n",
    "R_squared_val_rf_cv_list.append(R_squared_val)\n",
    "\n",
    "\n",
    "rmse_rf_list.append(rmse)"
   ]
  },
  {
   "cell_type": "code",
   "execution_count": 64,
   "id": "797b148d",
   "metadata": {},
   "outputs": [],
   "source": [
    "# # Saving Model\n",
    "\n",
    "# modelrfbcv5_pkl_filename = 'modelrfbcv5.pkl'\n",
    "# modelrfbcv5_pkl = open(modelrfbcv5_pkl_filename, 'wb')\n",
    "# pickle.dump(modelrfbcv5, modelrfbcv5_pkl)\n",
    "# modelrfbcv5_pkl.close()"
   ]
  },
  {
   "cell_type": "markdown",
   "id": "2c994f69",
   "metadata": {},
   "source": [
    "### RF Results"
   ]
  },
  {
   "cell_type": "code",
   "execution_count": 65,
   "id": "2537d290",
   "metadata": {},
   "outputs": [
    {
     "name": "stdout",
     "output_type": "stream",
     "text": [
      "[0.9949537210172115, 0.9950086397933595, 0.9951752412183953, 0.9951070050914994, 0.9950745851108085]\n",
      "[0.9676771891684466, 0.9652251064668169, 0.9632506138162356, 0.9665657432661077, 0.9651086450135405]\n",
      "[0.008580729278890722, 0.00831446359906025, 0.00858537928794307, 0.008063526733344501, 0.008616264224899355]\n"
     ]
    }
   ],
   "source": [
    "print(R_squared_train_rf_cv_list)\n",
    "print(R_squared_val_rf_cv_list)\n",
    "print(rmse_rf_list)"
   ]
  },
  {
   "cell_type": "code",
   "execution_count": 66,
   "id": "9033b9c5",
   "metadata": {},
   "outputs": [
    {
     "name": "stdout",
     "output_type": "stream",
     "text": [
      "0.00021409635044103534\n",
      "0.008432072624827579\n",
      "0.0014928496245245238\n",
      "0.9655654595462293\n"
     ]
    }
   ],
   "source": [
    "rmse = rmse_rf_list\n",
    "print(np.std(rmse))\n",
    "print(np.mean(rmse))\n",
    "print(np.std(R_squared_val_rf_cv_list))\n",
    "print(np.mean(R_squared_val_rf_cv_list))"
   ]
  },
  {
   "cell_type": "code",
   "execution_count": null,
   "id": "e8931d9e",
   "metadata": {},
   "outputs": [],
   "source": []
  },
  {
   "cell_type": "code",
   "execution_count": null,
   "id": "18fd4bae",
   "metadata": {},
   "outputs": [],
   "source": []
  }
 ],
 "metadata": {
  "kernelspec": {
   "display_name": "Python 3",
   "language": "python",
   "name": "python3"
  },
  "language_info": {
   "codemirror_mode": {
    "name": "ipython",
    "version": 3
   },
   "file_extension": ".py",
   "mimetype": "text/x-python",
   "name": "python",
   "nbconvert_exporter": "python",
   "pygments_lexer": "ipython3",
   "version": "3.8.8"
  }
 },
 "nbformat": 4,
 "nbformat_minor": 5
}
